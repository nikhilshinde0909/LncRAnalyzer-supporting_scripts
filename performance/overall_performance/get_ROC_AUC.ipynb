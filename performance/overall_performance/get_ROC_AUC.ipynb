{
 "cells": [
  {
   "cell_type": "code",
   "execution_count": null,
   "id": "04f5cd44",
   "metadata": {},
   "outputs": [],
   "source": [
    "# import modules\n",
    "import pandas as pd\n",
    "from sklearn.metrics import roc_curve, auc, roc_auc_score\n",
    "from sklearn.model_selection import train_test_split\n",
    "from sklearn.linear_model import LogisticRegression"
   ]
  },
  {
   "cell_type": "code",
   "execution_count": null,
   "id": "e50356e3",
   "metadata": {},
   "outputs": [],
   "source": [
    "# Load your data\n",
    "CPAT_Human = pd.read_table('CPAT_human.TSV', sep='\\t')\n",
    "CPAT_Plants = pd.read_table('CPAT_plants.TSV', sep='\\t')\n",
    "CPAT_Sorghum = pd.read_table('CPAT_sorghum.TSV', sep='\\t')\n",
    "RNAsamba_Full = pd.read_table('RNAsamba_fl.TSV', sep='\\t')\n",
    "RNAsamba_Partial = pd.read_table('RNAsamba_pl.TSV', sep='\\t')\n",
    "RNAsamba_Sorghum = pd.read_table('RNAsamba_sorghum.TSV', sep='\\t')\n",
    "CPC2 = pd.read_table('CPC2.TSV', sep='\\t')\n",
    "LGC = pd.read_table('LGC.TSV', sep='\\t')\n",
    "Pfamscan = pd.read_table('Pfamscan.TSV', sep='\\t')\n",
    "FEELnc_sorghum = pd.read_table('FEELnc_sorghum.TSV', sep='\\t')\n",
    "FEELnc_arabidopsis = pd.read_table('FEELnc_arabidopsis.TSV', sep='\\t')\n",
    "FEELnc_human = pd.read_table('FEELnc_human.TSV', sep='\\t')\n",
    "LncFinder_sorghum = pd.read_table('LncFinder_sorghum.TSV', sep='\\t')\n",
    "LncFinder_plants = pd.read_table('LncFinder_plants.TSV', sep='\\t')\n",
    "LncFinder_human = pd.read_table('LncFinder_human.TSV', sep='\\t')\n",
    "CPPred_sorghum = pd.read_table('CPPred_sorghum.TSV', sep='\\t')\n",
    "CPPred_plants = pd.read_table('CPPred_plants.TSV', sep='\\t')\n",
    "CPPred_human = pd.read_table('CPPred_human.TSV', sep='\\t')"
   ]
  },
  {
   "cell_type": "code",
   "execution_count": null,
   "id": "30ce62b3",
   "metadata": {},
   "outputs": [],
   "source": [
    "# Dataframes and corresponding approaches\n",
    "dataframes = [CPAT_Human,CPAT_Plants,CPAT_Sorghum,RNAsamba_Full,RNAsamba_Partial,RNAsamba_Sorghum,CPC2,LGC,Pfamscan,FEELnc_sorghum,FEELnc_arabidopsis,FEELnc_human,LncFinder_sorghum,LncFinder_plants,LncFinder_human,CPPred_sorghum,CPPred_plants,CPPred_huma]\n",
    "approaches = ['CPAT-Human','CPAT-Plants','CPAT-Sorghum', 'RNAsamba-full length','RNAsamba-partial length','RNAsamba-Sorghum','CPC2','LGC','PfamScan','FEELnc-Sorghum','FEELnc-Arabidopsis','FEELnc-Human','LncFinder-Sorghum','LncFinder-Plants','LncFinder-Human','CPPred','','']"
   ]
  },
  {
   "cell_type": "code",
   "execution_count": null,
   "id": "dab630e1",
   "metadata": {},
   "outputs": [],
   "source": [
    "# Initialize lists to store AUC and ROC curve data\n",
    "auc_values = []\n",
    "roc_curves = []"
   ]
  },
  {
   "cell_type": "code",
   "execution_count": null,
   "id": "1dd54ec0",
   "metadata": {},
   "outputs": [],
   "source": [
    "# Loop through each dataframe and calculate the ROC curve\n",
    "for i, df in enumerate(dataframes):\n",
    "    y_true = df['Class']  # True class labels\n",
    "    y_pred = df['Label']  # Predicted labels\n",
    "\n",
    "    # Calculate ROC curve\n",
    "    fpr, tpr, thresholds = roc_curve(y_true, y_pred)\n",
    "    \n",
    "    # Calculate AUC (Area Under Curve)\n",
    "    auc_value = auc(fpr, tpr)\n",
    "    auc_values.append({\n",
    "        'Approach': approaches[i],\n",
    "        'AUC': auc_value\n",
    "    })\n",
    "    print(f'{approaches[i]} AUC: {auc_value:.4f}')\n",
    "    \n",
    "    # Create a DataFrame for ROC values\n",
    "    roc_df = pd.DataFrame({\n",
    "        'FPR': fpr,\n",
    "        'TPR': tpr,\n",
    "        'Approach': approaches[i]\n",
    "    })\n",
    "    roc_curves.append(roc_df)"
   ]
  },
  {
   "cell_type": "code",
   "execution_count": null,
   "id": "1f440186",
   "metadata": {},
   "outputs": [],
   "source": [
    "# Concatenate all ROC dataframes\n",
    "roc_data = pd.concat(roc_curves, ignore_index=True)"
   ]
  },
  {
   "cell_type": "code",
   "execution_count": null,
   "id": "c57430ec",
   "metadata": {},
   "outputs": [],
   "source": [
    "# Write to a TSV file\n",
    "roc_data.to_csv('ROC_values.TSV', sep='\\t', index=False)"
   ]
  },
  {
   "cell_type": "code",
   "execution_count": null,
   "id": "9402d08a",
   "metadata": {},
   "outputs": [],
   "source": [
    "auc_df = pd.DataFrame(auc_values)"
   ]
  },
  {
   "cell_type": "code",
   "execution_count": null,
   "id": "734ce8d7",
   "metadata": {},
   "outputs": [],
   "source": [
    "# Write to a TSV file\n",
    "auc_df.to_csv('AUC_values.TSV', sep='\\t', index=False)"
   ]
  },
  {
   "cell_type": "code",
   "execution_count": null,
   "id": "d6c22b6a-75c5-4dfe-970e-d603a87d0f0a",
   "metadata": {},
   "outputs": [],
   "source": []
  }
 ],
 "metadata": {
  "kernelspec": {
   "display_name": "Python 3 (ipykernel)",
   "language": "python",
   "name": "python3"
  },
  "language_info": {
   "codemirror_mode": {
    "name": "ipython",
    "version": 3
   },
   "file_extension": ".py",
   "mimetype": "text/x-python",
   "name": "python",
   "nbconvert_exporter": "python",
   "pygments_lexer": "ipython3",
   "version": "3.12.3"
  }
 },
 "nbformat": 4,
 "nbformat_minor": 5
}
