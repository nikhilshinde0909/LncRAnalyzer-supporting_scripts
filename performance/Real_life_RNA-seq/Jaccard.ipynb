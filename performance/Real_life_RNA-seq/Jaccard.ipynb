{
 "cells": [
  {
   "cell_type": "code",
   "execution_count": null,
   "id": "3a3ceb06",
   "metadata": {},
   "outputs": [],
   "source": [
    "import pandas as pd\n",
    "import numpy as np\n",
    "from sklearn.metrics import pairwise_distances"
   ]
  },
  {
   "cell_type": "code",
   "execution_count": null,
   "id": "e9dc1cc7",
   "metadata": {},
   "outputs": [],
   "source": [
    "data = pd.read_csv('Coding_labels.TSV',sep='\\t')"
   ]
  },
  {
   "cell_type": "code",
   "execution_count": null,
   "id": "133d5492",
   "metadata": {},
   "outputs": [],
   "source": [
    "binary_data = data.iloc[:, 1:].values"
   ]
  },
  {
   "cell_type": "code",
   "execution_count": null,
   "id": "acc9aaa1",
   "metadata": {},
   "outputs": [],
   "source": [
    "transposed_data = binary_data.T"
   ]
  },
  {
   "cell_type": "code",
   "execution_count": null,
   "id": "db7dfad8",
   "metadata": {},
   "outputs": [],
   "source": [
    "distance_matrix = pairwise_distances(transposed_data, metric='jaccard')"
   ]
  },
  {
   "cell_type": "code",
   "execution_count": null,
   "id": "9b9ecd93",
   "metadata": {},
   "outputs": [],
   "source": [
    "distance_df = pd.DataFrame(distance_matrix, index=data.columns[1:], columns=data.columns[1:])"
   ]
  },
  {
   "cell_type": "code",
   "execution_count": null,
   "id": "3e1a738c",
   "metadata": {},
   "outputs": [],
   "source": [
    "print(distance_df)"
   ]
  },
  {
   "cell_type": "code",
   "execution_count": null,
   "id": "e000325e",
   "metadata": {},
   "outputs": [],
   "source": [
    "distance_df.to_csv('Jaccard_distance.TSV',sep='\\t')"
   ]
  },
  {
   "cell_type": "code",
   "execution_count": null,
   "id": "439773c1",
   "metadata": {},
   "outputs": [],
   "source": [
    "data"
   ]
  },
  {
   "cell_type": "code",
   "execution_count": null,
   "id": "a2ae00ff",
   "metadata": {},
   "outputs": [],
   "source": []
  }
 ],
 "metadata": {
  "kernelspec": {
   "display_name": "Python 3 (ipykernel)",
   "language": "python",
   "name": "python3"
  },
  "language_info": {
   "codemirror_mode": {
    "name": "ipython",
    "version": 3
   },
   "file_extension": ".py",
   "mimetype": "text/x-python",
   "name": "python",
   "nbconvert_exporter": "python",
   "pygments_lexer": "ipython3",
   "version": "3.12.8"
  }
 },
 "nbformat": 4,
 "nbformat_minor": 5
}
